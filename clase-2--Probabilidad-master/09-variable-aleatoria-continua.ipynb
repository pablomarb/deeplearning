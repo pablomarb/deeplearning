{
 "cells": [
  {
   "cell_type": "markdown",
   "metadata": {},
   "source": [
    "# Función de densidad de probabilidad\n",
    "vs función de masa de probabilidad"
   ]
  },
  {
   "cell_type": "markdown",
   "metadata": {},
   "source": [
    "## Notación"
   ]
  },
  {
   "cell_type": "markdown",
   "metadata": {},
   "source": [
    "$f_x(x)$"
   ]
  },
  {
   "cell_type": "markdown",
   "metadata": {},
   "source": [
    "# Distribución uniforme"
   ]
  },
  {
   "cell_type": "markdown",
   "metadata": {},
   "source": [
    "$\\huge f_x(x) = \\frac{1}{B-A}$  si A<x<B"
   ]
  },
  {
   "cell_type": "code",
   "execution_count": 1,
   "metadata": {},
   "outputs": [],
   "source": [
    "from matplotlib import pyplot as plt\n",
    "import numpy as np"
   ]
  },
  {
   "cell_type": "code",
   "execution_count": 2,
   "metadata": {},
   "outputs": [
    {
     "data": {
      "image/png": "[encoded data removed]",
      "text/plain": [
       "<Figure size 432x288 with 1 Axes>"
      ]
     },
     "metadata": {
      "needs_background": "light"
     },
     "output_type": "display_data"
    }
   ],
   "source": [
    "A = 1\n",
    "B = 5\n",
    "x = np.linspace(A-1, B+1, 1000)\n",
    "y = ((x>A) & (x<B)) / (B-A)\n",
    "plt.plot(x, y)\n",
    "plt.show()"
   ]
  },
  {
   "cell_type": "markdown",
   "metadata": {},
   "source": [
    "- El area debajo de la curva es 1\n",
    "- Es densidad por lo que son siempre probabilidades en un intervalo que se calcula como el area de ese intervalo\n",
    "- $\\mu_x=\\frac{A+B}{2}$\n",
    "- $\\sigma_x =\\frac{(B-A)^2}{12}$"
   ]
  },
  {
   "cell_type": "markdown",
   "metadata": {},
   "source": [
    "# Como generamos?"
   ]
  },
  {
   "cell_type": "code",
   "execution_count": 3,
   "metadata": {},
   "outputs": [
    {
     "data": {
      "text/plain": [
       "array([4.04289415, 2.88676342, 2.98222787, 3.13664229, 2.46163216,\n",
       "       4.41226108, 4.09344048, 4.57508166, 1.63545202, 3.53692482,\n",
       "       2.89363846, 1.13779048, 1.77447506, 1.33194718, 4.28608263,\n",
       "       2.0313393 , 1.898287  , 4.14885765, 4.81861422, 4.84409283,\n",
       "       2.98585752, 4.68359904, 1.27972123, 3.48329043, 1.603173  ,\n",
       "       3.32593438, 2.37681572, 4.90090366, 1.21683366, 1.26748378,\n",
       "       3.28567872, 1.19700563, 4.91281052, 4.3436009 , 1.49126965,\n",
       "       2.44929275, 1.73290353, 2.19438595, 1.40852482, 1.52503418,\n",
       "       3.15842122, 1.48867427, 1.74228587, 1.70016204, 3.78650899,\n",
       "       1.17501798, 3.21607713, 4.81397487, 4.76963477, 1.88276395,\n",
       "       1.57190022, 2.05289044, 4.25870107, 2.86559736, 4.68236862,\n",
       "       4.8195488 , 1.09893967, 1.13160739, 2.11669701, 2.76474166,\n",
       "       2.97384136, 1.83218664, 4.17001038, 4.21559651, 1.80073954,\n",
       "       2.24772705, 2.02178114, 3.08655363, 1.6655367 , 4.55964048,\n",
       "       2.47713464, 2.64116137, 2.64014429, 1.88562584, 3.19313293,\n",
       "       1.02026114, 3.29235171, 2.66872733, 3.77979157, 3.74844827,\n",
       "       2.31455585, 2.84461538, 4.81674746, 1.96792604, 1.76939508,\n",
       "       4.79403883, 4.01605684, 3.86227185, 4.13358023, 3.07700211,\n",
       "       4.32160284, 1.96998222, 4.58880812, 3.35468336, 3.18949191,\n",
       "       2.06398785, 3.7141982 , 4.26326525, 1.22906108, 3.36031949])"
      ]
     },
     "execution_count": 3,
     "metadata": {},
     "output_type": "execute_result"
    }
   ],
   "source": [
    "np.random.uniform(A, B, 100)"
   ]
  },
  {
   "cell_type": "markdown",
   "metadata": {},
   "source": [
    "# Distribución Gaussiana"
   ]
  },
  {
   "cell_type": "markdown",
   "metadata": {},
   "source": [
    "$\\huge f_x(x) = \\frac{1}{\\sqrt{2\\pi\\sigma_x^2}}e^{-\\frac{(x-\\mu_x)^2}{2\\sigma_x^2}}$ "
   ]
  },
  {
   "cell_type": "code",
   "execution_count": 6,
   "metadata": {},
   "outputs": [
    {
     "data": {
      "image/png": "[encoded data removed]",
      "text/plain": [
       "<Figure size 432x288 with 1 Axes>"
      ]
     },
     "metadata": {
      "needs_background": "light"
     },
     "output_type": "display_data"
    }
   ],
   "source": [
    "from scipy.stats import norm\n",
    "rango = np.linspace(-10, 10, 100)\n",
    "media = 0\n",
    "std = 1\n",
    "pdf = norm.pdf(rango, media, std)\n",
    "plt.plot(rango, pdf)\n",
    "plt.show()"
   ]
  },
  {
   "cell_type": "markdown",
   "metadata": {},
   "source": [
    "Cambiar media y std"
   ]
  },
  {
   "cell_type": "markdown",
   "metadata": {},
   "source": [
    "# Dataset de pesos y alturas"
   ]
  },
  {
   "cell_type": "code",
   "execution_count": 10,
   "metadata": {},
   "outputs": [],
   "source": [
    "import pandas as pd\n",
    "df = pd.read_csv('alturas-pesos-1-train.csv')"
   ]
  },
  {
   "cell_type": "code",
   "execution_count": 12,
   "metadata": {},
   "outputs": [],
   "source": [
    "# df"
   ]
  },
  {
   "cell_type": "code",
   "execution_count": 13,
   "metadata": {},
   "outputs": [],
   "source": [
    "from collections import Counter\n",
    "pesos = df['Peso'].values\n",
    "peso_H =  df[df['Genero'] == 'Hombre']['Peso'].values"
   ]
  },
  {
   "cell_type": "code",
   "execution_count": 9,
   "metadata": {},
   "outputs": [
    {
     "data": {
      "image/png": "[encoded data removed]",
      "text/plain": [
       "<Figure size 432x288 with 1 Axes>"
      ]
     },
     "metadata": {
      "needs_background": "light"
     },
     "output_type": "display_data"
    }
   ],
   "source": [
    "pesos_frecuencia = dict(Counter(pesos))\n",
    "peso_prob = {pe:c/len(pesos) for pe, c in pesos_frecuencia.items()}\n",
    "plt.bar(peso_prob.keys(), peso_prob.values())\n",
    "plt.show()"
   ]
  },
  {
   "cell_type": "markdown",
   "metadata": {},
   "source": [
    "Es gaussiana?"
   ]
  },
  {
   "cell_type": "code",
   "execution_count": 14,
   "metadata": {},
   "outputs": [
    {
     "data": {
      "image/png": "[encoded data removed]",
      "text/plain": [
       "<Figure size 432x288 with 1 Axes>"
      ]
     },
     "metadata": {
      "needs_background": "light"
     },
     "output_type": "display_data"
    }
   ],
   "source": [
    "peso_H_frecuencia = dict(Counter(peso_H))\n",
    "peso_prob_H = {pe:c/len(peso_H) for pe, c in peso_H_frecuencia.items()}\n",
    "plt.bar(peso_prob_H.keys(), peso_prob_H.values())\n",
    "plt.show()"
   ]
  },
  {
   "cell_type": "markdown",
   "metadata": {},
   "source": [
    "Es gaussiana?"
   ]
  },
  {
   "cell_type": "code",
   "execution_count": 26,
   "metadata": {},
   "outputs": [
    {
     "name": "stdout",
     "output_type": "stream",
     "text": [
      "83.95577211394303 8.987069000037568\n"
     ]
    }
   ],
   "source": [
    "mean = peso_H.mean()\n",
    "std = peso_H.std()\n",
    "print(mean, std)"
   ]
  },
  {
   "cell_type": "markdown",
   "metadata": {},
   "source": [
    "### La distribución Gaussiana queda determinada por solo dos parámetros:\n",
    "Media y Varianza"
   ]
  },
  {
   "cell_type": "code",
   "execution_count": 27,
   "metadata": {},
   "outputs": [
    {
     "data": {
      "image/png": "[encoded data removed]",
      "text/plain": [
       "<Figure size 432x288 with 1 Axes>"
      ]
     },
     "metadata": {
      "needs_background": "light"
     },
     "output_type": "display_data"
    }
   ],
   "source": [
    "rango = np.linspace(peso_H.min(), peso_H.max(), 100)\n",
    "pdf = norm.pdf(rango, mean, std)\n",
    "plt.plot(rango, pdf, c='r')\n",
    "plt.bar(peso_prob_H.keys(), peso_prob_H.values())\n",
    "plt.show()"
   ]
  },
  {
   "cell_type": "markdown",
   "metadata": {},
   "source": [
    "# Como generamos?"
   ]
  },
  {
   "cell_type": "code",
   "execution_count": 28,
   "metadata": {},
   "outputs": [
    {
     "data": {
      "text/plain": [
       "array([86.67769466, 90.16623625, 95.59188308, 78.34145671, 85.74461801,\n",
       "       93.52204147, 73.23835626, 86.41891889, 81.5142715 , 92.30236659,\n",
       "       93.31013149, 82.4233536 , 78.61228756, 89.11825163, 85.12498826,\n",
       "       80.62508895, 92.02841117, 82.31057991, 80.37651815, 83.16746911,\n",
       "       77.86870841, 82.19572387, 79.34789455, 83.19033444, 68.05453448,\n",
       "       86.74290751, 91.63630314, 83.02216558, 75.97079609, 80.63632185,\n",
       "       80.63958164, 88.14526782, 85.65109921, 94.27665195, 91.32424158,\n",
       "       92.95269192, 84.1115271 , 94.05001359, 91.33482121, 94.05025156,\n",
       "       84.0610742 , 85.62600654, 88.2268612 , 83.76012416, 87.91762074,\n",
       "       74.79147321, 75.25132394, 99.74790379, 77.79011655, 96.64785909,\n",
       "       71.2769691 , 71.06038215, 81.98859711, 80.37875224, 94.16268089,\n",
       "       88.58722404, 81.39968119, 84.31411211, 88.59772868, 84.21624418,\n",
       "       75.24410498, 78.68614626, 82.87867845, 86.36746989, 68.53422189,\n",
       "       84.79647626, 74.30546965, 95.71371635, 82.27843537, 83.45827931,\n",
       "       95.72888399, 66.48823156, 84.82094734, 88.90316964, 79.9683891 ,\n",
       "       68.96381492, 87.48902096, 83.15743897, 80.99207286, 84.60981961,\n",
       "       92.84815318, 84.15284168, 83.32378642, 71.35185255, 80.10892467,\n",
       "       85.75503278, 85.37869861, 71.06564617, 79.54012317, 85.21420416,\n",
       "       81.68173493, 75.25213996, 76.7960243 , 73.4172722 , 74.89413997,\n",
       "       68.04576461, 76.23563538, 93.24411613, 78.8885687 , 94.95222555])"
      ]
     },
     "execution_count": 28,
     "metadata": {},
     "output_type": "execute_result"
    }
   ],
   "source": [
    "np.random.normal(mean, std, 100)"
   ]
  },
  {
   "cell_type": "markdown",
   "metadata": {},
   "source": [
    "# Teorema del limite central"
   ]
  },
  {
   "cell_type": "markdown",
   "metadata": {},
   "source": [
    "Problema de laboratorio"
   ]
  },
  {
   "cell_type": "markdown",
   "metadata": {},
   "source": [
    "Dadas $X_1$, $X_2$, $X_3$ ... $X_N$ todas V.As. i.i.d. (Intependientes e Identicamente Distribuidas)\n",
    "\n",
    "Donde la media $E[X_i] = \\mu_{x_i}$\n",
    "\n",
    "Y la varianza $E[(X_i-\\mu_{x_i})^2] = \\sigma^2_{x_i} < \\infty$\n",
    "\n",
    "$S = \\sum_i^N{\\frac{X_i}{N}}$\n",
    "\n",
    "La V.A S tiene distribución gaussiana con media $\\mu_{x_i}$ y varianza $\\sigma^2_{x_i}$ cuando N tiende a infinito"
   ]
  },
  {
   "cell_type": "markdown",
   "metadata": {},
   "source": [
    "https://www.kaggle.com/c/santander-customer-transaction-prediction/data"
   ]
  }
 ],
 "metadata": {
  "kernelspec": {
   "display_name": "Python 3",
   "language": "python",
   "name": "python3"
  },
  "language_info": {
   "codemirror_mode": {
    "name": "ipython",
    "version": 3
   },
   "file_extension": ".py",
   "mimetype": "text/x-python",
   "name": "python",
   "nbconvert_exporter": "python",
   "pygments_lexer": "ipython3",
   "version": "3.7.3"
  }
 },
 "nbformat": 4,
 "nbformat_minor": 2
}

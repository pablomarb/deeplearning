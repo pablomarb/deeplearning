{
 "cells": [
  {
   "cell_type": "markdown",
   "metadata": {},
   "source": [
    "# Entropía cruzada"
   ]
  },
  {
   "cell_type": "code",
   "execution_count": 2,
   "metadata": {},
   "outputs": [],
   "source": [
    "import numpy as np"
   ]
  },
  {
   "cell_type": "markdown",
   "metadata": {},
   "source": [
    "Dadas dos distribuciones de probabilidad, la entropía cruzada mide el grado de similitud entre las distribuciones"
   ]
  },
  {
   "cell_type": "markdown",
   "metadata": {},
   "source": [
    "Se basa en KL-divergence $D_{KL}(p||q)$ (Kullback-Leibler)"
   ]
  },
  {
   "cell_type": "markdown",
   "metadata": {},
   "source": [
    "$\\huge H(p,q) = - \\sum_{i=1}^N{p_i log(q_i)} = H(p) + D_{KL}(p||q)$"
   ]
  },
  {
   "cell_type": "markdown",
   "metadata": {},
   "source": [
    "$\\large D_{KL}(p||q) = \\sum_{i}{p_i log(p_i/q_i)}$"
   ]
  },
  {
   "cell_type": "markdown",
   "metadata": {},
   "source": [
    "La divergencia KL es cero cuando las dos distribuciones son iguales.\n",
    "\n",
    "Cual es el valor de la entropía cruzada mínimo?"
   ]
  },
  {
   "cell_type": "code",
   "execution_count": 3,
   "metadata": {},
   "outputs": [],
   "source": [
    "def cross_entropy(P, Q):\n",
    "    \"\"\"\n",
    "    Calcula la entropía curzada entre de dos distribuciones\n",
    "    \"\"\"\n",
    "    ce = 0\n",
    "    for i, p in P.items():\n",
    "        ce = ce - p*np.log(Q[i])\n",
    "    return ce/np.log(len(P))"
   ]
  },
  {
   "cell_type": "code",
   "execution_count": 4,
   "metadata": {},
   "outputs": [],
   "source": [
    "X = {1: 0.175, 2: 0.1, 3: 0.25, 4:0.05, 5:0.125, 6: 0.1, 7:0.2}"
   ]
  },
  {
   "cell_type": "code",
   "execution_count": 5,
   "metadata": {},
   "outputs": [
    {
     "data": {
      "text/plain": [
       "0.9474818901754604"
      ]
     },
     "execution_count": 5,
     "metadata": {},
     "output_type": "execute_result"
    }
   ],
   "source": [
    "cross_entropy(X, X)"
   ]
  },
  {
   "cell_type": "code",
   "execution_count": 6,
   "metadata": {},
   "outputs": [
    {
     "data": {
      "text/plain": [
       "{1: 0.175, 2: 0.1, 3: 0.25, 4: 0.05, 5: 0.125, 6: 0.1, 7: 0.2}"
      ]
     },
     "execution_count": 6,
     "metadata": {},
     "output_type": "execute_result"
    }
   ],
   "source": [
    "X"
   ]
  },
  {
   "cell_type": "markdown",
   "metadata": {},
   "source": [
    "# Dada una V.A X"
   ]
  },
  {
   "cell_type": "code",
   "execution_count": null,
   "metadata": {},
   "outputs": [],
   "source": []
  },
  {
   "cell_type": "code",
   "execution_count": 7,
   "metadata": {},
   "outputs": [
    {
     "data": {
      "text/plain": [
       "1.0"
      ]
     },
     "execution_count": 7,
     "metadata": {},
     "output_type": "execute_result"
    }
   ],
   "source": [
    "sum(X.values())"
   ]
  },
  {
   "cell_type": "code",
   "execution_count": 8,
   "metadata": {},
   "outputs": [],
   "source": [
    "from matplotlib import pyplot as plt"
   ]
  },
  {
   "cell_type": "code",
   "execution_count": 9,
   "metadata": {},
   "outputs": [
    {
     "data": {
      "image/png": "[encoded data removed]",
      "text/plain": [
       "<Figure size 432x288 with 1 Axes>"
      ]
     },
     "metadata": {
      "needs_background": "light"
     },
     "output_type": "display_data"
    }
   ],
   "source": [
    "plt.bar(X.keys(), X.values())\n",
    "plt.show()"
   ]
  },
  {
   "cell_type": "code",
   "execution_count": 10,
   "metadata": {},
   "outputs": [
    {
     "data": {
      "text/plain": [
       "array([6, 3, 3, 7, 2, 2, 1, 1, 1, 7, 3, 7, 5, 6, 1, 5, 1, 3, 2, 1, 7, 6,\n",
       "       3, 1, 1, 7, 1, 3, 7, 7, 3, 1, 7, 1, 5, 1, 2, 3, 7, 2, 7, 3, 3, 2,\n",
       "       5, 3, 6, 3, 2, 3, 5, 3, 1, 7, 3, 7, 3, 1, 7, 4, 3, 7, 7, 3, 1, 5,\n",
       "       3, 5, 1, 6, 4, 2, 5, 4, 7, 6, 5, 1, 3, 1, 3, 5, 3, 5, 3, 6, 5, 7,\n",
       "       5, 3, 2, 3, 1, 2, 1, 1, 6, 3, 6, 1])"
      ]
     },
     "execution_count": 10,
     "metadata": {},
     "output_type": "execute_result"
    }
   ],
   "source": [
    "np.random.choice(list(X.keys()), size = 100, p = list(X.values()))"
   ]
  },
  {
   "cell_type": "code",
   "execution_count": 11,
   "metadata": {},
   "outputs": [],
   "source": [
    "def estimate_and_get_ce(X, N):\n",
    "    \"\"\"\n",
    "        Dado una distribución X y la cantidad de veces N que se realiza el muestreo de la distribución, \n",
    "        devuelve la entropía cruzada entre X y la estimación de X\n",
    "    \"\"\"\n",
    "    # Muestramos la V.A X, N veces\n",
    "    observaciones = np.random.choice(list(X.keys()), size = N, p = list(X.values()))\n",
    "    # Calculamos histograma\n",
    "    ps, _ = np.histogram(observaciones, bins=len(X), range=[1,len(X)+1])\n",
    "    # Normalizamos\n",
    "    ps = ps/len(observaciones)\n",
    "    X_ = {k:ps[i] for i,k in enumerate(X.keys())}\n",
    "    return cross_entropy(X, X_)"
   ]
  },
  {
   "cell_type": "code",
   "execution_count": 13,
   "metadata": {},
   "outputs": [],
   "source": [
    "entropies = []\n",
    "Ns = []\n",
    "for N in range(200):\n",
    "    obs = 100 + N*100\n",
    "    Ns.append(obs)\n",
    "    entropies.append(estimate_and_get_ce(X, obs))"
   ]
  },
  {
   "cell_type": "code",
   "execution_count": 14,
   "metadata": {},
   "outputs": [
    {
     "data": {
      "image/png": "[encoded data removed]",
      "text/plain": [
       "<Figure size 1440x360 with 1 Axes>"
      ]
     },
     "metadata": {
      "needs_background": "light"
     },
     "output_type": "display_data"
    }
   ],
   "source": [
    "plt.figure(figsize=(20,5))\n",
    "plt.plot(Ns, entropies)\n",
    "plt.xscale('log')"
   ]
  },
  {
   "cell_type": "code",
   "execution_count": 15,
   "metadata": {},
   "outputs": [
    {
     "data": {
      "text/plain": [
       "{1: 0.175, 2: 0.1, 3: 0.25, 4: 0.05, 5: 0.125, 6: 0.1, 7: 0.2}"
      ]
     },
     "execution_count": 15,
     "metadata": {},
     "output_type": "execute_result"
    }
   ],
   "source": [
    "X"
   ]
  },
  {
   "cell_type": "code",
   "execution_count": 16,
   "metadata": {},
   "outputs": [
    {
     "data": {
      "text/plain": [
       "0.9474818901754604"
      ]
     },
     "execution_count": 16,
     "metadata": {},
     "output_type": "execute_result"
    }
   ],
   "source": [
    "cross_entropy(X, X)"
   ]
  },
  {
   "cell_type": "markdown",
   "metadata": {},
   "source": [
    "### Intuición de la entropía Cruzada:\n",
    "\n",
    "https://www.quora.com/Whats-an-intuitive-way-to-think-of-cross-entropy"
   ]
  },
  {
   "cell_type": "code",
   "execution_count": null,
   "metadata": {},
   "outputs": [],
   "source": []
  }
 ],
 "metadata": {
  "kernelspec": {
   "display_name": "Python 3",
   "language": "python",
   "name": "python3"
  },
  "language_info": {
   "codemirror_mode": {
    "name": "ipython",
    "version": 3
   },
   "file_extension": ".py",
   "mimetype": "text/x-python",
   "name": "python",
   "nbconvert_exporter": "python",
   "pygments_lexer": "ipython3",
   "version": "3.7.6"
  }
 },
 "nbformat": 4,
 "nbformat_minor": 4
}

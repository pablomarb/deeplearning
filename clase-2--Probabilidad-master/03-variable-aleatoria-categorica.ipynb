{
 "cells": [
  {
   "cell_type": "markdown",
   "metadata": {},
   "source": [
    "# V.A Categorica"
   ]
  },
  {
   "cell_type": "markdown",
   "metadata": {},
   "source": [
    "- Cada una de las N posibles salidas tiene un valor de probabilidad específico\n",
    "- La forma mas usual de definirla es a través de un histograma\n",
    "- Este tipo de representación se llama no paramétrica debido a que la V.A no queda definida con unos pocos parámetros sino que hay que definirla explicitamente"
   ]
  },
  {
   "cell_type": "markdown",
   "metadata": {},
   "source": [
    "# Ejemplos"
   ]
  },
  {
   "cell_type": "code",
   "execution_count": 1,
   "metadata": {},
   "outputs": [],
   "source": [
    "import numpy as np"
   ]
  },
  {
   "cell_type": "code",
   "execution_count": 2,
   "metadata": {},
   "outputs": [],
   "source": [
    "# Usaremos un diccionario en python para definirla\n",
    "X = {1: 0.1, 2: 0.3, 3: 0.5, 4:0.1}"
   ]
  },
  {
   "cell_type": "code",
   "execution_count": 3,
   "metadata": {},
   "outputs": [
    {
     "data": {
      "text/plain": [
       "1.0"
      ]
     },
     "execution_count": 3,
     "metadata": {},
     "output_type": "execute_result"
    }
   ],
   "source": [
    "# Verificamos que la suma sea 1\n",
    "sum(X.values())"
   ]
  },
  {
   "cell_type": "code",
   "execution_count": 4,
   "metadata": {},
   "outputs": [],
   "source": [
    "from matplotlib import pyplot as plt"
   ]
  },
  {
   "cell_type": "code",
   "execution_count": 5,
   "metadata": {},
   "outputs": [
    {
     "data": {
      "image/png": "[encoded data removed]",
      "text/plain": [
       "<Figure size 432x288 with 1 Axes>"
      ]
     },
     "metadata": {
      "needs_background": "light"
     },
     "output_type": "display_data"
    }
   ],
   "source": [
    "plt.bar(X.keys(), X.values())\n",
    "plt.show()"
   ]
  },
  {
   "cell_type": "code",
   "execution_count": 6,
   "metadata": {},
   "outputs": [
    {
     "data": {
      "text/plain": [
       "1.3862943611198906"
      ]
     },
     "execution_count": 6,
     "metadata": {},
     "output_type": "execute_result"
    }
   ],
   "source": [
    "np.log(4)"
   ]
  },
  {
   "cell_type": "markdown",
   "metadata": {},
   "source": [
    "## Cálculo de momentos y entropía de una V.A categórica"
   ]
  },
  {
   "cell_type": "code",
   "execution_count": 7,
   "metadata": {},
   "outputs": [],
   "source": [
    "def mean(X):\n",
    "    m = 0\n",
    "    for x, p in X.items():\n",
    "        m = m + x*p\n",
    "    return m"
   ]
  },
  {
   "cell_type": "code",
   "execution_count": 9,
   "metadata": {},
   "outputs": [
    {
     "data": {
      "text/plain": [
       "2.6"
      ]
     },
     "execution_count": 9,
     "metadata": {},
     "output_type": "execute_result"
    }
   ],
   "source": [
    "mean(X)"
   ]
  },
  {
   "cell_type": "code",
   "execution_count": 10,
   "metadata": {},
   "outputs": [],
   "source": [
    "def variance(X):\n",
    "    m = mean(X)\n",
    "    v = 0\n",
    "    for x, p in X.items():\n",
    "        v = v + (x-m)**2*p\n",
    "    return v"
   ]
  },
  {
   "cell_type": "code",
   "execution_count": 11,
   "metadata": {},
   "outputs": [
    {
     "data": {
      "text/plain": [
       "0.64"
      ]
     },
     "execution_count": 11,
     "metadata": {},
     "output_type": "execute_result"
    }
   ],
   "source": [
    "variance(X)"
   ]
  },
  {
   "cell_type": "code",
   "execution_count": 12,
   "metadata": {},
   "outputs": [],
   "source": [
    "def entropy(X, normalize = True):\n",
    "    e = 0\n",
    "    for _, p in X.items():\n",
    "        e = e - np.log(p)* p\n",
    "    if normalize:\n",
    "        e = e/np.log(len(X))\n",
    "    else:\n",
    "        e = e/np.log(2)\n",
    "    return e"
   ]
  },
  {
   "cell_type": "code",
   "execution_count": 14,
   "metadata": {},
   "outputs": [
    {
     "data": {
      "text/plain": [
       "0.6079067132126817"
      ]
     },
     "execution_count": 14,
     "metadata": {},
     "output_type": "execute_result"
    }
   ],
   "source": [
    "entropy(X, normalize=True)/np.log(4)"
   ]
  },
  {
   "cell_type": "markdown",
   "metadata": {},
   "source": [
    "## Que idea intuitiva nos da la varianza o el desvio estandard? y la entropía?\n",
    "### Cual es mejor medida para la incertidumbre?"
   ]
  },
  {
   "cell_type": "code",
   "execution_count": 16,
   "metadata": {},
   "outputs": [],
   "source": [
    "def analize_VA(X, normalize=True):\n",
    "    #assert sum(X.values()) == 1\n",
    "    plt.bar(X.keys(), X.values())\n",
    "    plt.show()\n",
    "    print('Media:', mean(X))\n",
    "    if normalize:\n",
    "        print('Entropía normalizada:', entropy(X, normalize=normalize))\n",
    "    else:\n",
    "        print('Entropía:', entropy(X, normalize=normalize))\n",
    "    print('Varianza:', variance(X))"
   ]
  },
  {
   "cell_type": "code",
   "execution_count": 17,
   "metadata": {},
   "outputs": [
    {
     "data": {
      "image/png": "[encoded data removed]",
      "text/plain": [
       "<Figure size 432x288 with 1 Axes>"
      ]
     },
     "metadata": {
      "needs_background": "light"
     },
     "output_type": "display_data"
    },
    {
     "name": "stdout",
     "output_type": "stream",
     "text": [
      "Media: 2.02\n",
      "Entropía normalizada: 0.3087715616560074\n",
      "Varianza: 0.15960000000000002\n"
     ]
    }
   ],
   "source": [
    "X_1 = {1: 0.05, 2: 0.9, 3: 0.03, 4:0.02}\n",
    "analize_VA(X_1)"
   ]
  },
  {
   "cell_type": "code",
   "execution_count": 18,
   "metadata": {},
   "outputs": [
    {
     "data": {
      "image/png": "[encoded data removed]",
      "text/plain": [
       "<Figure size 432x288 with 1 Axes>"
      ]
     },
     "metadata": {
      "needs_background": "light"
     },
     "output_type": "display_data"
    },
    {
     "name": "stdout",
     "output_type": "stream",
     "text": [
      "Media: 2.5\n",
      "Entropía normalizada: 1.0\n",
      "Varianza: 1.25\n"
     ]
    }
   ],
   "source": [
    "X_2 = {1: 0.25, 2: 0.25, 3: 0.25, 4:0.25}\n",
    "analize_VA(X_2)"
   ]
  },
  {
   "cell_type": "code",
   "execution_count": 19,
   "metadata": {},
   "outputs": [
    {
     "data": {
      "image/png": "[encoded data removed]",
      "text/plain": [
       "<Figure size 432x288 with 1 Axes>"
      ]
     },
     "metadata": {
      "needs_background": "light"
     },
     "output_type": "display_data"
    },
    {
     "name": "stdout",
     "output_type": "stream",
     "text": [
      "Media: 1.0449999999999997\n",
      "Entropía normalizada: 0.030891008405092145\n",
      "Varianza: 0.282975\n"
     ]
    }
   ],
   "source": [
    "X_3 = {1: 0.991, 2: 0.001, 3: 0.001, 4:0.001, 5:0.001, 6:0.001, 7:0.001, 8:0.001, 9:0.001, 10:0.001}\n",
    "analize_VA(X_3)"
   ]
  },
  {
   "cell_type": "code",
   "execution_count": 20,
   "metadata": {},
   "outputs": [
    {
     "data": {
      "image/png": "[encoded data removed]",
      "text/plain": [
       "<Figure size 432x288 with 1 Axes>"
      ]
     },
     "metadata": {
      "needs_background": "light"
     },
     "output_type": "display_data"
    },
    {
     "name": "stdout",
     "output_type": "stream",
     "text": [
      "Media: 5.500000000000001\n",
      "Entropía normalizada: 0.9999999999999998\n",
      "Varianza: 8.25\n"
     ]
    }
   ],
   "source": [
    "X_4 = {1: 0.1, 2: 0.1, 3: 0.1, 4:0.1, 5:0.1, 6:0.1, 7:0.1, 8:0.1, 9:0.1, 10:0.1}\n",
    "analize_VA(X_4)"
   ]
  },
  {
   "cell_type": "code",
   "execution_count": 21,
   "metadata": {},
   "outputs": [
    {
     "data": {
      "image/png": "[encoded data removed]",
      "text/plain": [
       "<Figure size 432x288 with 1 Axes>"
      ]
     },
     "metadata": {
      "needs_background": "light"
     },
     "output_type": "display_data"
    },
    {
     "name": "stdout",
     "output_type": "stream",
     "text": [
      "Media: 5.4910000000000005\n",
      "Entropía normalizada: 0.32608130132741736\n",
      "Varianza: 20.129919\n"
     ]
    }
   ],
   "source": [
    "X_5 = {1: 0.497, 2: 0.001, 3: 0.001, 4:0.001, 5:0.001, 6:0.001, 7:0.001, 8:0.001, 9:0.001, 10:0.495}\n",
    "analize_VA(X_5)"
   ]
  },
  {
   "cell_type": "markdown",
   "metadata": {},
   "source": [
    "# Intuición de la entropía"
   ]
  },
  {
   "cell_type": "code",
   "execution_count": 22,
   "metadata": {},
   "outputs": [
    {
     "data": {
      "image/png": "[encoded data removed]",
      "text/plain": [
       "<Figure size 432x288 with 1 Axes>"
      ]
     },
     "metadata": {
      "needs_background": "light"
     },
     "output_type": "display_data"
    },
    {
     "name": "stdout",
     "output_type": "stream",
     "text": [
      "Media: 2.5\n",
      "Entropía: 2.0\n",
      "Varianza: 1.25\n"
     ]
    }
   ],
   "source": [
    "X = {1: 0.25, 2: 0.25, 3: 0.25, 4:0.25}\n",
    "analize_VA(X, normalize=False)"
   ]
  },
  {
   "cell_type": "markdown",
   "metadata": {},
   "source": [
    "Dado que realicé el experimento y tengo que adivinar cual fue la observación:\n",
    "\n",
    "¿Cúal es la cantidad de preguntas promedio que deberia hacer para adivinar la salida?"
   ]
  },
  {
   "cell_type": "markdown",
   "metadata": {},
   "source": [
    "Es mayor a 2.5?  \n",
    "- si -> Es 3?  \n",
    "- No -> Es 1?"
   ]
  },
  {
   "cell_type": "markdown",
   "metadata": {},
   "source": [
    "Con dos preguntas encuentro resultado"
   ]
  },
  {
   "cell_type": "code",
   "execution_count": 217,
   "metadata": {},
   "outputs": [
    {
     "data": {
      "image/png": "[encoded data removed]",
      "text/plain": [
       "<Figure size 432x288 with 1 Axes>"
      ]
     },
     "metadata": {
      "needs_background": "light"
     },
     "output_type": "display_data"
    },
    {
     "name": "stdout",
     "output_type": "stream",
     "text": [
      "Media: 4.5\n",
      "Entropía: 3.0\n",
      "Varianza: 5.25\n"
     ]
    }
   ],
   "source": [
    "X = {1: 0.125, 2: 0.125, 3: 0.125, 4:0.125, 5: 0.125, 6: 0.125, 7: 0.125, 8:0.125}\n",
    "analize_VA(X, normalize=False)"
   ]
  },
  {
   "cell_type": "markdown",
   "metadata": {},
   "source": [
    "Es mayor a 4.5?\n",
    "- si -> Es mayor a 6.5?:\n",
    "    - Si -> es 7?\n",
    "    - No -> es 5?\n",
    "- no -> Es menor a 2.5?:\n",
    "    - Si -> es 1?\n",
    "    - No -> es 3?"
   ]
  },
  {
   "cell_type": "code",
   "execution_count": 196,
   "metadata": {},
   "outputs": [
    {
     "data": {
      "image/png": "[encoded data removed]",
      "text/plain": [
       "<Figure size 432x288 with 1 Axes>"
      ]
     },
     "metadata": {
      "needs_background": "light"
     },
     "output_type": "display_data"
    },
    {
     "name": "stdout",
     "output_type": "stream",
     "text": [
      "Media: 1.0000001385\n",
      "Entropía: 1.0205288417267646e-06\n",
      "Varianza: 3.134999890169505e-07\n"
     ]
    }
   ],
   "source": [
    "# Caso extremo:\n",
    "X = {1: 0.99999999, 2: 0.0000000033, 3: 0.0000000033, 4: 0.000000033}\n",
    "analize_VA(X, normalize=False)"
   ]
  },
  {
   "cell_type": "markdown",
   "metadata": {},
   "source": [
    "Cuantas preguntas necesito hacer para adivinar?"
   ]
  },
  {
   "cell_type": "code",
   "execution_count": 198,
   "metadata": {},
   "outputs": [
    {
     "data": {
      "image/png": "[encoded data removed]",
      "text/plain": [
       "<Figure size 432x288 with 1 Axes>"
      ]
     },
     "metadata": {
      "needs_background": "light"
     },
     "output_type": "display_data"
    },
    {
     "name": "stdout",
     "output_type": "stream",
     "text": [
      "Media: 1.875\n",
      "Entropía: 1.75\n",
      "Varianza: 1.109375\n"
     ]
    }
   ],
   "source": [
    "X = {1: 0.5, 2: 0.25, 3: 0.125, 4:0.125}\n",
    "analize_VA(X, normalize=False)"
   ]
  },
  {
   "cell_type": "markdown",
   "metadata": {},
   "source": [
    "Es 1?\n",
    "- Si -> Resuelto\n",
    "- No -> Es 2?\n",
    "    - Si -> Resuelto\n",
    "    - No -> Es 3?\n",
    "        - Si o No Resuelto"
   ]
  },
  {
   "cell_type": "code",
   "execution_count": 202,
   "metadata": {},
   "outputs": [
    {
     "data": {
      "text/plain": [
       "1.75"
      ]
     },
     "execution_count": 202,
     "metadata": {},
     "output_type": "execute_result"
    }
   ],
   "source": [
    "1 * 0.5 + 2 * 0.25 + 3 * 0.125 + 3 * 0.125"
   ]
  },
  {
   "cell_type": "markdown",
   "metadata": {},
   "source": [
    "# Modelo generador de una V.A Categórica"
   ]
  },
  {
   "cell_type": "code",
   "execution_count": 23,
   "metadata": {},
   "outputs": [],
   "source": [
    "X = {1: 0.1, 2: 0.3, 3: 0.5, 4:0.1}"
   ]
  },
  {
   "cell_type": "code",
   "execution_count": 25,
   "metadata": {},
   "outputs": [
    {
     "data": {
      "text/plain": [
       "(dict_keys([1, 2, 3, 4]), dict_values([0.1, 0.3, 0.5, 0.1]))"
      ]
     },
     "execution_count": 25,
     "metadata": {},
     "output_type": "execute_result"
    }
   ],
   "source": [
    "X.keys(), X.values()"
   ]
  },
  {
   "cell_type": "code",
   "execution_count": 26,
   "metadata": {},
   "outputs": [],
   "source": [
    "observaciones = np.random.choice(list(X.keys()), size = 1000, p = list(X.values()))"
   ]
  },
  {
   "cell_type": "code",
   "execution_count": 29,
   "metadata": {},
   "outputs": [
    {
     "data": {
      "text/plain": [
       "array([3, 3, 3, 2, 4, 3, 1, 2, 3, 2, 1, 4, 2, 2, 2, 3, 1, 2, 3, 3, 3, 2,\n",
       "       3, 3, 4, 3, 4, 3, 3, 3, 3, 1, 4, 3, 1, 2, 3, 3, 3, 4, 4, 3, 3, 3,\n",
       "       3, 3, 1, 1, 3, 2, 4, 2, 2, 3, 3, 3, 3, 3, 1, 2, 3, 3, 3, 4, 3, 1,\n",
       "       3, 3, 2, 2, 3, 2, 3, 1, 3, 3, 3, 2, 2, 3, 2, 2, 3, 3, 3, 2, 1, 1,\n",
       "       1, 2, 3, 3, 3, 2, 3, 2, 2, 3, 3, 3, 4, 3, 3, 3, 3, 2, 3, 3, 3, 2,\n",
       "       3, 3, 3, 4, 3, 3, 3, 4, 4, 3, 3, 3, 3, 2, 3, 2, 2, 4, 3, 2, 1, 2,\n",
       "       3, 2, 4, 4, 2, 3, 4, 3, 3, 2, 3, 3, 1, 2, 2, 1, 3, 2, 3, 3, 3, 1,\n",
       "       3, 1, 3, 2, 3, 1, 1, 2, 3, 2, 3, 4, 3, 3, 2, 3, 2, 3, 4, 3, 3, 2,\n",
       "       3, 2, 2, 3, 2, 3, 2, 2, 2, 2, 1, 3, 3, 3, 2, 3, 2, 2, 3, 3, 3, 3,\n",
       "       2, 3, 3, 2, 3, 3, 1, 1, 1, 3, 4, 2, 2, 1, 3, 2, 4, 1, 3, 1, 2, 3,\n",
       "       3, 1, 2, 3, 2, 3, 2, 2, 3, 3, 2, 4, 3, 2, 3, 2, 3, 3, 3, 3, 2, 3,\n",
       "       3, 4, 2, 2, 2, 3, 3, 2, 3, 4, 2, 2, 2, 1, 2, 3, 3, 2, 1, 3, 3, 3,\n",
       "       3, 3, 2, 3, 2, 2, 2, 3, 2, 3, 3, 2, 1, 1, 3, 3, 2, 2, 2, 2, 3, 3,\n",
       "       3, 3, 3, 3, 1, 3, 3, 3, 2, 4, 2, 1, 2, 3, 2, 3, 3, 2, 1, 3, 3, 2,\n",
       "       3, 2, 3, 2, 2, 2, 3, 3, 2, 3, 2, 3, 3, 3, 4, 3, 3, 3, 3, 2, 3, 4,\n",
       "       3, 3, 3, 3, 3, 2, 3, 2, 3, 1, 3, 4, 1, 4, 2, 3, 3, 3, 3, 2, 3, 3,\n",
       "       2, 2, 2, 3, 3, 3, 2, 2, 3, 1, 2, 2, 3, 4, 1, 2, 2, 3, 4, 2, 3, 4,\n",
       "       3, 3, 3, 3, 3, 3, 3, 2, 3, 3, 3, 4, 2, 2, 2, 2, 4, 1, 3, 3, 4, 3,\n",
       "       2, 2, 4, 3, 2, 2, 2, 2, 1, 3, 3, 3, 3, 3, 3, 2, 2, 1, 3, 1, 3, 2,\n",
       "       4, 3, 3, 3, 2, 3, 2, 2, 4, 3, 3, 3, 3, 2, 2, 1, 3, 3, 1, 2, 4, 1,\n",
       "       3, 2, 2, 3, 3, 2, 3, 2, 3, 4, 3, 3, 4, 1, 2, 1, 3, 3, 4, 2, 2, 2,\n",
       "       3, 3, 3, 4, 3, 2, 3, 1, 3, 3, 4, 4, 2, 2, 2, 3, 2, 3, 2, 2, 2, 4,\n",
       "       3, 3, 3, 2, 3, 3, 3, 2, 2, 1, 3, 3, 3, 3, 3, 3, 3, 2, 3, 1, 2, 3,\n",
       "       4, 1, 3, 3, 1, 3, 3, 2, 1, 3, 2, 3, 3, 1, 2, 3, 1, 3, 2, 3, 3, 3,\n",
       "       3, 4, 3, 3, 2, 3, 3, 4, 3, 3, 4, 3, 3, 3, 3, 3, 2, 3, 1, 3, 4, 2,\n",
       "       2, 3, 3, 2, 2, 1, 2, 4, 4, 3, 3, 2, 2, 3, 3, 2, 1, 3, 3, 2, 2, 4,\n",
       "       3, 1, 1, 3, 2, 2, 2, 3, 2, 3, 4, 2, 1, 1, 3, 2, 4, 4, 2, 2, 2, 4,\n",
       "       2, 3, 2, 1, 3, 3, 3, 4, 3, 2, 2, 2, 2, 3, 4, 2, 2, 2, 2, 1, 1, 2,\n",
       "       4, 3, 2, 2, 1, 4, 3, 3, 3, 2, 2, 2, 4, 1, 3, 3, 3, 3, 3, 2, 3, 3,\n",
       "       1, 3, 3, 3, 3, 3, 3, 3, 2, 4, 3, 1, 2, 2, 4, 3, 1, 3, 2, 3, 2, 4,\n",
       "       3, 1, 2, 3, 3, 2, 2, 1, 3, 3, 3, 1, 4, 3, 3, 2, 4, 4, 4, 4, 3, 2,\n",
       "       3, 2, 4, 3, 3, 4, 3, 2, 3, 2, 3, 2, 1, 3, 2, 2, 3, 3, 2, 4, 3, 3,\n",
       "       3, 3, 4, 3, 2, 4, 2, 3, 2, 3, 3, 3, 3, 3, 2, 3, 1, 3, 2, 2, 3, 3,\n",
       "       2, 2, 1, 3, 1, 3, 2, 3, 3, 4, 3, 2, 3, 3, 3, 2, 1, 1, 3, 2, 3, 2,\n",
       "       3, 2, 2, 4, 3, 2, 3, 2, 2, 3, 2, 3, 3, 3, 4, 4, 1, 4, 2, 3, 1, 3,\n",
       "       2, 4, 4, 3, 1, 1, 3, 3, 2, 3, 4, 3, 1, 3, 1, 3, 1, 4, 3, 3, 3, 2,\n",
       "       1, 3, 3, 4, 3, 3, 3, 3, 2, 3, 3, 3, 3, 3, 3, 3, 3, 3, 3, 2, 4, 2,\n",
       "       2, 3, 1, 3, 2, 3, 3, 3, 3, 2, 2, 2, 1, 3, 2, 2, 4, 2, 2, 2, 2, 2,\n",
       "       2, 4, 1, 2, 3, 3, 3, 1, 2, 2, 2, 3, 3, 2, 2, 2, 3, 1, 3, 3, 3, 3,\n",
       "       3, 2, 4, 4, 3, 2, 3, 2, 3, 3, 3, 2, 4, 3, 3, 4, 3, 2, 3, 3, 3, 1,\n",
       "       3, 3, 3, 3, 3, 3, 1, 2, 2, 3, 1, 3, 3, 2, 2, 3, 4, 2, 3, 2, 3, 4,\n",
       "       3, 1, 2, 3, 2, 2, 3, 3, 1, 2, 2, 3, 2, 3, 2, 4, 3, 3, 4, 3, 2, 3,\n",
       "       3, 4, 3, 3, 3, 2, 3, 4, 1, 3, 2, 3, 3, 1, 2, 3, 2, 3, 2, 1, 1, 2,\n",
       "       1, 1, 3, 3, 3, 3, 3, 3, 3, 2, 2, 2, 2, 3, 2, 3, 3, 3, 3, 3, 3, 2,\n",
       "       3, 3, 3, 3, 2, 3, 1, 3, 3, 2, 2, 2, 3, 3, 3, 2, 2, 1, 2, 3, 3, 1,\n",
       "       2, 3, 2, 4, 3, 2, 3, 2, 1, 2])"
      ]
     },
     "execution_count": 29,
     "metadata": {},
     "output_type": "execute_result"
    }
   ],
   "source": [
    "observaciones"
   ]
  },
  {
   "cell_type": "markdown",
   "metadata": {},
   "source": [
    "# Estimar la función de masa de probabilidad de las observaciones"
   ]
  },
  {
   "cell_type": "code",
   "execution_count": 31,
   "metadata": {},
   "outputs": [
    {
     "data": {
      "text/plain": [
       "Counter({3: 489, 2: 303, 4: 100, 1: 108})"
      ]
     },
     "execution_count": 31,
     "metadata": {},
     "output_type": "execute_result"
    }
   ],
   "source": [
    "from collections import Counter\n",
    "Counter(observaciones)"
   ]
  },
  {
   "cell_type": "markdown",
   "metadata": {},
   "source": [
    "Histograma"
   ]
  },
  {
   "cell_type": "code",
   "execution_count": 33,
   "metadata": {},
   "outputs": [
    {
     "data": {
      "text/plain": [
       "(array([108, 303, 489, 100]), array([1., 2., 3., 4., 5.]))"
      ]
     },
     "execution_count": 33,
     "metadata": {},
     "output_type": "execute_result"
    }
   ],
   "source": [
    "np.histogram(observaciones, bins=4, range=[1,5])"
   ]
  },
  {
   "cell_type": "markdown",
   "metadata": {},
   "source": [
    "Tener en cuenta que toma como primer intervalo [1, 2), como segundo [2,3), y asi hasta el ultimo [4, 5)\n",
    "\n",
    "donde \"[\" es incluido y \")\" es excluido"
   ]
  },
  {
   "cell_type": "code",
   "execution_count": 37,
   "metadata": {},
   "outputs": [
    {
     "data": {
      "image/png": "[encoded data removed]",
      "text/plain": [
       "<Figure size 432x288 with 1 Axes>"
      ]
     },
     "metadata": {
      "needs_background": "light"
     },
     "output_type": "display_data"
    }
   ],
   "source": [
    "hist = plt.hist(observaciones, bins=4, range=[1,5], width=0.9, density=True) # normed='density')"
   ]
  },
  {
   "cell_type": "code",
   "execution_count": 35,
   "metadata": {},
   "outputs": [
    {
     "data": {
      "text/plain": [
       "(array([0.108, 0.303, 0.489, 0.1  ]),\n",
       " array([1., 2., 3., 4., 5.]),\n",
       " <a list of 4 Patch objects>)"
      ]
     },
     "execution_count": 35,
     "metadata": {},
     "output_type": "execute_result"
    }
   ],
   "source": [
    "hist"
   ]
  },
  {
   "cell_type": "code",
   "execution_count": 36,
   "metadata": {},
   "outputs": [
    {
     "data": {
      "image/png": "[encoded data removed]",
      "text/plain": [
       "<Figure size 432x288 with 1 Axes>"
      ]
     },
     "metadata": {
      "needs_background": "light"
     },
     "output_type": "display_data"
    },
    {
     "name": "stdout",
     "output_type": "stream",
     "text": [
      "Media: 2.6\n",
      "Entropía normalizada: 0.8427376486136672\n",
      "Varianza: 0.64\n"
     ]
    }
   ],
   "source": [
    "# Esta es la Ground Truth\n",
    "analize_VA(X)"
   ]
  },
  {
   "cell_type": "code",
   "execution_count": null,
   "metadata": {},
   "outputs": [],
   "source": []
  }
 ],
 "metadata": {
  "kernelspec": {
   "display_name": "Python 3",
   "language": "python",
   "name": "python3"
  },
  "language_info": {
   "codemirror_mode": {
    "name": "ipython",
    "version": 3
   },
   "file_extension": ".py",
   "mimetype": "text/x-python",
   "name": "python",
   "nbconvert_exporter": "python",
   "pygments_lexer": "ipython3",
   "version": "3.7.3"
  }
 },
 "nbformat": 4,
 "nbformat_minor": 2
}

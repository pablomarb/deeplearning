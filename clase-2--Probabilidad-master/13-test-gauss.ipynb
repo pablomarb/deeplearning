{
 "cells": [
  {
   "cell_type": "code",
   "execution_count": null,
   "metadata": {},
   "outputs": [],
   "source": [
    "from helper import plot_mv_gaussian\n",
    "import numpy as np"
   ]
  },
  {
   "cell_type": "code",
   "execution_count": 43,
   "metadata": {},
   "outputs": [],
   "source": [
    "%matplotlib inline\n",
    "from ipywidgets import interactive, fixed, interact, widgets\n",
    "from matplotlib import pyplot as plt\n",
    "from IPython.display import display, Markdown"
   ]
  },
  {
   "cell_type": "code",
   "execution_count": 25,
   "metadata": {},
   "outputs": [
    {
     "data": {
      "text/markdown": [
       "$x^2$"
      ],
      "text/plain": [
       "<IPython.core.display.Markdown object>"
      ]
     },
     "metadata": {},
     "output_type": "display_data"
    }
   ],
   "source": [
    "display(Markdown('$x^2$'))"
   ]
  },
  {
   "cell_type": "code",
   "execution_count": 80,
   "metadata": {},
   "outputs": [],
   "source": [
    "def plot_gauss(sigma_x1=1, sigma_x2=1, corr_coef=0.0):\n",
    "    sigma_x1x2 = corr_coef*sigma_x1*sigma_x2\n",
    "    corr_mat = np.array([[sigma_x1,sigma_x1x2],[sigma_x1x2,sigma_x2]])\n",
    "    plot_mv_gaussian(np.array([0, 0]), corr_mat, initview=(35, -45),\n",
    "                     N=50, autoscale=([-2, 2], [-2, 2], [0, 0.15]))\n",
    "    print(corr_mat)\n",
    "    plt.show()\n",
    "    return"
   ]
  },
  {
   "cell_type": "code",
   "execution_count": 46,
   "metadata": {},
   "outputs": [
    {
     "data": {
      "application/vnd.jupyter.widget-view+json": {
       "model_id": "b42ad58ddd984285add86f2524f2cb0a",
       "version_major": 2,
       "version_minor": 0
      },
      "text/plain": [
       "interactive(children=(FloatSlider(value=1.0, description='sigma_x1', max=4.0, min=0.5), FloatSlider(value=1.0,…"
      ]
     },
     "metadata": {},
     "output_type": "display_data"
    }
   ],
   "source": [
    "w=interactive(plot_gauss, sigma_x1=(0.5,4), sigma_x2=(0.5,4), corr_coef=(-0.9, 0.9))\n",
    "w"
   ]
  },
  {
   "cell_type": "markdown",
   "metadata": {},
   "source": [
    "$\\rho$"
   ]
  },
  {
   "cell_type": "code",
   "execution_count": 81,
   "metadata": {},
   "outputs": [
    {
     "data": {
      "application/vnd.jupyter.widget-view+json": {
       "model_id": "611efbecd64442f9811c23881de63263",
       "version_major": 2,
       "version_minor": 0
      },
      "text/plain": [
       "HBox(children=(FloatSlider(value=1.0, description='$\\\\sigma_{x_1}^2$', max=4.0, min=0.5), FloatSlider(value=1.…"
      ]
     },
     "metadata": {},
     "output_type": "display_data"
    },
    {
     "data": {
      "application/vnd.jupyter.widget-view+json": {
       "model_id": "849cae1af34c4506a079d85ccfc57961",
       "version_major": 2,
       "version_minor": 0
      },
      "text/plain": [
       "Output()"
      ]
     },
     "metadata": {},
     "output_type": "display_data"
    }
   ],
   "source": [
    "a = widgets.FloatSlider(1.0, min=0.5, max=4, description='$\\sigma_{x_1}^2$')\n",
    "b = widgets.FloatSlider(1.0, min=0.5, max=4, description='$\\sigma_{x_2}^2$')\n",
    "c = widgets.FloatSlider(0, min=-0.9, max=0.9, description='$ro$')\n",
    "ui = widgets.HBox([a, b, c])\n",
    "out = widgets.interactive_output(plot_gauss, {'sigma_x1': a, 'sigma_x2': b, 'corr_coef': c})\n",
    "display(ui, out)"
   ]
  },
  {
   "cell_type": "code",
   "execution_count": 9,
   "metadata": {},
   "outputs": [],
   "source": [
    "from lorenz import solve_lorenz"
   ]
  },
  {
   "cell_type": "code",
   "execution_count": null,
   "metadata": {},
   "outputs": [],
   "source": []
  }
 ],
 "metadata": {
  "kernelspec": {
   "display_name": "Python 3",
   "language": "python",
   "name": "python3"
  },
  "language_info": {
   "codemirror_mode": {
    "name": "ipython",
    "version": 3
   },
   "file_extension": ".py",
   "mimetype": "text/x-python",
   "name": "python",
   "nbconvert_exporter": "python",
   "pygments_lexer": "ipython3",
   "version": "3.7.6"
  }
 },
 "nbformat": 4,
 "nbformat_minor": 4
}
